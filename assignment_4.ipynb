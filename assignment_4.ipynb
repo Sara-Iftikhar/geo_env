{
 "cells": [
  {
   "cell_type": "markdown",
   "id": "8a8f9f05-0869-4899-b720-c0137d80482f",
   "metadata": {},
   "source": [
    "# ErSE 394 — Geo-Environmental Modeling & Analysis\n",
    "## Assignment Block 4 (Assessing Changes in Water Volume in Wadi Murwani Reservoir Using Sentinel-2)"
   ]
  },
  {
   "cell_type": "markdown",
   "id": "bb1a18c1-7369-4294-bb4d-5f5c88731889",
   "metadata": {},
   "source": [
    "### Link to the repository: [https://github.com/Sara-Iftikhar/geo_env](https://github.com/Sara-Iftikhar/geo_env)"
   ]
  },
  {
   "cell_type": "markdown",
   "id": "6d0ed173-8f7e-4ae8-94c3-78a6e639cea3",
   "metadata": {},
   "source": [
    "#### 5. Where are the NDVI values highest and why?\n",
    "NDVI values are highest on the upper, lower and back side of the reservoir because of\n",
    "the presence of the temperate and tropical rainforests."
   ]
  },
  {
   "cell_type": "markdown",
   "id": "18a023d0-b5c8-4384-8787-9e2c56143bda",
   "metadata": {},
   "source": [
    "#### 6. Where are the NDWI values highest and why?\n",
    "The NDWI serves as an index to quantify the presence of water bodies, reaching its peak values within the boundaries of reservoirs, indicating the clear presence of water."
   ]
  },
  {
   "cell_type": "markdown",
   "id": "b7879254-fce0-42c8-9abc-a5930fc323f2",
   "metadata": {},
   "source": [
    "#### 7. To analyze the dynamics of the reservoir’s water volume, create a time series of the NDWI."
   ]
  },
  {
   "cell_type": "code",
   "execution_count": 1,
   "id": "45135562-b9d3-4ac5-8a23-1effbbf9bb81",
   "metadata": {},
   "outputs": [],
   "source": [
    "import os\n",
    "path = os.path.join(os.getcwd(), 'data', 'Sentinel-2')\n",
    "if not os.path.exists(path):\n",
    "      os.mkdir(path)"
   ]
  },
  {
   "cell_type": "markdown",
   "id": "327ceda7-3aa7-4148-9bdc-1dcfe72101df",
   "metadata": {},
   "source": [
    "#### 8. Create a figure of the time series."
   ]
  },
  {
   "cell_type": "code",
   "execution_count": 2,
   "id": "7b396a5c-2039-4ad6-91a9-adb27426c0f8",
   "metadata": {},
   "outputs": [],
   "source": [
    "import pandas as pd\n",
    "\n",
    "df = pd.read_csv(os.path.join(path, 'Sentinel-2 L2A-7-NDWI-2019-01-01T00_00_00.000Z-2024-01-01T23_59_59.999Z.csv'))"
   ]
  },
  {
   "cell_type": "code",
   "execution_count": 3,
   "id": "1a3eb0e5-3226-4053-9c15-5de083fe136e",
   "metadata": {},
   "outputs": [
    {
     "data": {
      "text/html": [
       "<div>\n",
       "<style scoped>\n",
       "    .dataframe tbody tr th:only-of-type {\n",
       "        vertical-align: middle;\n",
       "    }\n",
       "\n",
       "    .dataframe tbody tr th {\n",
       "        vertical-align: top;\n",
       "    }\n",
       "\n",
       "    .dataframe thead th {\n",
       "        text-align: right;\n",
       "    }\n",
       "</style>\n",
       "<table border=\"1\" class=\"dataframe\">\n",
       "  <thead>\n",
       "    <tr style=\"text-align: right;\">\n",
       "      <th></th>\n",
       "      <th>C0/date</th>\n",
       "      <th>C0/min</th>\n",
       "      <th>C0/max</th>\n",
       "      <th>C0/mean</th>\n",
       "      <th>C0/stDev</th>\n",
       "      <th>C0/sampleCount</th>\n",
       "      <th>C0/noDataCount</th>\n",
       "      <th>C0/median</th>\n",
       "      <th>C0/p10</th>\n",
       "      <th>C0/p90</th>\n",
       "      <th>C0/cloudCoveragePercent</th>\n",
       "    </tr>\n",
       "  </thead>\n",
       "  <tbody>\n",
       "    <tr>\n",
       "      <th>0</th>\n",
       "      <td>2019-01-02T00:00:00.000Z</td>\n",
       "      <td>-0.045091</td>\n",
       "      <td>0.279383</td>\n",
       "      <td>0.064645</td>\n",
       "      <td>0.072750</td>\n",
       "      <td>2772</td>\n",
       "      <td>1523</td>\n",
       "      <td>0.029372</td>\n",
       "      <td>0.005520</td>\n",
       "      <td>0.194444</td>\n",
       "      <td>78.302642</td>\n",
       "    </tr>\n",
       "    <tr>\n",
       "      <th>1</th>\n",
       "      <td>2019-01-07T00:00:00.000Z</td>\n",
       "      <td>-0.059342</td>\n",
       "      <td>0.166230</td>\n",
       "      <td>0.113961</td>\n",
       "      <td>0.041574</td>\n",
       "      <td>2772</td>\n",
       "      <td>1523</td>\n",
       "      <td>0.126356</td>\n",
       "      <td>0.063778</td>\n",
       "      <td>0.148553</td>\n",
       "      <td>100.000000</td>\n",
       "    </tr>\n",
       "    <tr>\n",
       "      <th>2</th>\n",
       "      <td>2019-01-12T00:00:00.000Z</td>\n",
       "      <td>-0.355470</td>\n",
       "      <td>0.859903</td>\n",
       "      <td>0.673966</td>\n",
       "      <td>0.232758</td>\n",
       "      <td>2772</td>\n",
       "      <td>1523</td>\n",
       "      <td>0.751163</td>\n",
       "      <td>0.376176</td>\n",
       "      <td>0.819059</td>\n",
       "      <td>0.000000</td>\n",
       "    </tr>\n",
       "    <tr>\n",
       "      <th>3</th>\n",
       "      <td>2019-01-17T00:00:00.000Z</td>\n",
       "      <td>-0.448665</td>\n",
       "      <td>1.000000</td>\n",
       "      <td>0.871434</td>\n",
       "      <td>0.315602</td>\n",
       "      <td>2772</td>\n",
       "      <td>1523</td>\n",
       "      <td>0.996497</td>\n",
       "      <td>0.411301</td>\n",
       "      <td>1.000000</td>\n",
       "      <td>0.560448</td>\n",
       "    </tr>\n",
       "    <tr>\n",
       "      <th>4</th>\n",
       "      <td>2019-01-22T00:00:00.000Z</td>\n",
       "      <td>-0.309663</td>\n",
       "      <td>0.645472</td>\n",
       "      <td>0.497338</td>\n",
       "      <td>0.174857</td>\n",
       "      <td>2772</td>\n",
       "      <td>1523</td>\n",
       "      <td>0.551942</td>\n",
       "      <td>0.264957</td>\n",
       "      <td>0.608534</td>\n",
       "      <td>0.000000</td>\n",
       "    </tr>\n",
       "    <tr>\n",
       "      <th>...</th>\n",
       "      <td>...</td>\n",
       "      <td>...</td>\n",
       "      <td>...</td>\n",
       "      <td>...</td>\n",
       "      <td>...</td>\n",
       "      <td>...</td>\n",
       "      <td>...</td>\n",
       "      <td>...</td>\n",
       "      <td>...</td>\n",
       "      <td>...</td>\n",
       "      <td>...</td>\n",
       "    </tr>\n",
       "    <tr>\n",
       "      <th>353</th>\n",
       "      <td>2023-12-07T00:00:00.000Z</td>\n",
       "      <td>-0.478445</td>\n",
       "      <td>1.000000</td>\n",
       "      <td>0.864268</td>\n",
       "      <td>0.301329</td>\n",
       "      <td>2772</td>\n",
       "      <td>1523</td>\n",
       "      <td>0.963049</td>\n",
       "      <td>0.697974</td>\n",
       "      <td>1.000000</td>\n",
       "      <td>0.000000</td>\n",
       "    </tr>\n",
       "    <tr>\n",
       "      <th>354</th>\n",
       "      <td>2023-12-12T00:00:00.000Z</td>\n",
       "      <td>-0.307303</td>\n",
       "      <td>0.733956</td>\n",
       "      <td>0.238658</td>\n",
       "      <td>0.210997</td>\n",
       "      <td>2772</td>\n",
       "      <td>1523</td>\n",
       "      <td>0.260110</td>\n",
       "      <td>-0.016786</td>\n",
       "      <td>0.493270</td>\n",
       "      <td>53.162530</td>\n",
       "    </tr>\n",
       "    <tr>\n",
       "      <th>355</th>\n",
       "      <td>2023-12-22T00:00:00.000Z</td>\n",
       "      <td>-0.450000</td>\n",
       "      <td>1.000000</td>\n",
       "      <td>0.506351</td>\n",
       "      <td>0.222111</td>\n",
       "      <td>2772</td>\n",
       "      <td>1523</td>\n",
       "      <td>0.560510</td>\n",
       "      <td>0.354108</td>\n",
       "      <td>0.659051</td>\n",
       "      <td>0.000000</td>\n",
       "    </tr>\n",
       "    <tr>\n",
       "      <th>356</th>\n",
       "      <td>2023-12-27T00:00:00.000Z</td>\n",
       "      <td>-0.449114</td>\n",
       "      <td>0.491857</td>\n",
       "      <td>0.153462</td>\n",
       "      <td>0.119456</td>\n",
       "      <td>2772</td>\n",
       "      <td>1523</td>\n",
       "      <td>0.181460</td>\n",
       "      <td>0.086069</td>\n",
       "      <td>0.231121</td>\n",
       "      <td>0.000000</td>\n",
       "    </tr>\n",
       "    <tr>\n",
       "      <th>357</th>\n",
       "      <td>2024-01-01T00:00:00.000Z</td>\n",
       "      <td>-0.533845</td>\n",
       "      <td>1.000000</td>\n",
       "      <td>0.680056</td>\n",
       "      <td>0.305553</td>\n",
       "      <td>2772</td>\n",
       "      <td>1523</td>\n",
       "      <td>0.738889</td>\n",
       "      <td>0.442060</td>\n",
       "      <td>0.934211</td>\n",
       "      <td>0.000000</td>\n",
       "    </tr>\n",
       "  </tbody>\n",
       "</table>\n",
       "<p>358 rows × 11 columns</p>\n",
       "</div>"
      ],
      "text/plain": [
       "                      C0/date    C0/min    C0/max   C0/mean  C0/stDev  \\\n",
       "0    2019-01-02T00:00:00.000Z -0.045091  0.279383  0.064645  0.072750   \n",
       "1    2019-01-07T00:00:00.000Z -0.059342  0.166230  0.113961  0.041574   \n",
       "2    2019-01-12T00:00:00.000Z -0.355470  0.859903  0.673966  0.232758   \n",
       "3    2019-01-17T00:00:00.000Z -0.448665  1.000000  0.871434  0.315602   \n",
       "4    2019-01-22T00:00:00.000Z -0.309663  0.645472  0.497338  0.174857   \n",
       "..                        ...       ...       ...       ...       ...   \n",
       "353  2023-12-07T00:00:00.000Z -0.478445  1.000000  0.864268  0.301329   \n",
       "354  2023-12-12T00:00:00.000Z -0.307303  0.733956  0.238658  0.210997   \n",
       "355  2023-12-22T00:00:00.000Z -0.450000  1.000000  0.506351  0.222111   \n",
       "356  2023-12-27T00:00:00.000Z -0.449114  0.491857  0.153462  0.119456   \n",
       "357  2024-01-01T00:00:00.000Z -0.533845  1.000000  0.680056  0.305553   \n",
       "\n",
       "     C0/sampleCount  C0/noDataCount  C0/median    C0/p10    C0/p90  \\\n",
       "0              2772            1523   0.029372  0.005520  0.194444   \n",
       "1              2772            1523   0.126356  0.063778  0.148553   \n",
       "2              2772            1523   0.751163  0.376176  0.819059   \n",
       "3              2772            1523   0.996497  0.411301  1.000000   \n",
       "4              2772            1523   0.551942  0.264957  0.608534   \n",
       "..              ...             ...        ...       ...       ...   \n",
       "353            2772            1523   0.963049  0.697974  1.000000   \n",
       "354            2772            1523   0.260110 -0.016786  0.493270   \n",
       "355            2772            1523   0.560510  0.354108  0.659051   \n",
       "356            2772            1523   0.181460  0.086069  0.231121   \n",
       "357            2772            1523   0.738889  0.442060  0.934211   \n",
       "\n",
       "     C0/cloudCoveragePercent  \n",
       "0                  78.302642  \n",
       "1                 100.000000  \n",
       "2                   0.000000  \n",
       "3                   0.560448  \n",
       "4                   0.000000  \n",
       "..                       ...  \n",
       "353                 0.000000  \n",
       "354                53.162530  \n",
       "355                 0.000000  \n",
       "356                 0.000000  \n",
       "357                 0.000000  \n",
       "\n",
       "[358 rows x 11 columns]"
      ]
     },
     "execution_count": 3,
     "metadata": {},
     "output_type": "execute_result"
    }
   ],
   "source": [
    "df"
   ]
  },
  {
   "cell_type": "code",
   "execution_count": 4,
   "id": "0983e31d-1757-489a-9571-9b2573f8763a",
   "metadata": {},
   "outputs": [],
   "source": [
    "path = os.path.join(os.getcwd(), 'figures')\n",
    "if not os.path.exists(path):\n",
    "      os.mkdir(path)"
   ]
  },
  {
   "cell_type": "code",
   "execution_count": 5,
   "id": "901e86f2-9801-4d2e-94b0-9c1ca162a6ea",
   "metadata": {},
   "outputs": [
    {
     "data": {
      "image/png": "[encoded data removed]",
      "text/plain": [
       "<Figure size 640x480 with 1 Axes>"
      ]
     },
     "metadata": {},
     "output_type": "display_data"
    }
   ],
   "source": [
    "from easy_mpl import plot\n",
    "import matplotlib.pyplot as plt\n",
    "import matplotlib.dates as mdates\n",
    "\n",
    "NDWI_series = pd.Series(df['C0/mean'].values, index=pd.to_datetime(df['C0/date']))\n",
    "ax = plot(NDWI_series, '-o', color='darkcyan', show=False,\n",
    "           ax_kws=dict(\n",
    "                        xlabel=\"Time\",\n",
    "                        ylabel=\"NDWI\",\n",
    "                        title='5 years NDWI time series for Wadi Murwani'))\n",
    "ax.xaxis.set_major_formatter(mdates.DateFormatter('%Y-%m-%d'))\n",
    "plt.savefig(os.path.join(path, '5_years_NDWI_time_series_Wadi_Murwani'), dpi=300)"
   ]
  },
  {
   "cell_type": "markdown",
   "id": "3e354ffa-bda2-44f5-8ce5-8eafd319e69d",
   "metadata": {},
   "source": [
    "#### 9. Adjust the maximum permissible cloud cover per scene to minimize cloud interference in the NDWI imagery. Does cloud cover typically result in higher or lower NDWI values?"
   ]
  },
  {
   "cell_type": "markdown",
   "id": "29ccd02a-b775-4e41-87d5-76c9e4ca67d5",
   "metadata": {},
   "source": [
    "#### 10. Does the presence of vegetation result in a negative or positive NDWI value? Why?\n",
    "NDWI is a metric index used to map water bodies. It uses green and near infrared bands to \n",
    "identify water bodies as they strongly absorb light in visible to infrared electromagnetic spectrum.\n",
    "Presence of vegetation at an area results in negative values of NDWI. "
   ]
  },
  {
   "cell_type": "markdown",
   "id": "778d792d-3f00-4dd2-be47-2d1e5cf4021e",
   "metadata": {},
   "source": [
    "#### 11. What were the periods when the reservoir’s water volume was at its lowest and highest?"
   ]
  },
  {
   "cell_type": "code",
   "execution_count": 6,
   "id": "74df43bd-0a3a-400e-a641-0398f7dd3a26",
   "metadata": {},
   "outputs": [
    {
     "name": "stdout",
     "output_type": "stream",
     "text": [
      "Lowest reservoir’s water volume period: 2022-11-12 00:00:00+00:00\n",
      "Highest reservoir’s water volume period: 2020-01-07 00:00:00+00:00\n"
     ]
    }
   ],
   "source": [
    "print(f'Lowest reservoir’s water volume period: {NDWI_series.idxmin()}')\n",
    "print(f'Highest reservoir’s water volume period: {NDWI_series.idxmax()}')"
   ]
  }
 ],
 "metadata": {
  "kernelspec": {
   "display_name": "Python 3 (ipykernel)",
   "language": "python",
   "name": "python3"
  },
  "language_info": {
   "codemirror_mode": {
    "name": "ipython",
    "version": 3
   },
   "file_extension": ".py",
   "mimetype": "text/x-python",
   "name": "python",
   "nbconvert_exporter": "python",
   "pygments_lexer": "ipython3",
   "version": "3.12.0"
  }
 },
 "nbformat": 4,
 "nbformat_minor": 5
}
