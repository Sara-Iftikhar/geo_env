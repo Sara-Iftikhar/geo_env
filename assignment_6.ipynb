{
 "cells": [
  {
   "cell_type": "markdown",
   "id": "fcff8527-1e2e-4d0d-887d-1005e80f6861",
   "metadata": {},
   "source": [
    "# ErSE 394 — Geo-Environmental Modeling & Analysis\n",
    "## Assignment 6 (Estimation of Open Water Evaporation in Wadi Murwani Reservoir Using ECMWF ERA5)"
   ]
  },
  {
   "cell_type": "markdown",
   "id": "a65090f3-e691-4a57-b81d-765405e47fe3",
   "metadata": {},
   "source": [
    "### Part 2"
   ]
  },
  {
   "cell_type": "code",
   "execution_count": 1,
   "id": "1c95b4bb-bbaf-4b4c-b392-590c5a7ab564",
   "metadata": {},
   "outputs": [],
   "source": [
    "import os\n",
    "import numpy as np\n",
    "import matplotlib.pyplot as plt\n",
    "import xarray as xr"
   ]
  },
  {
   "cell_type": "code",
   "execution_count": 2,
   "id": "c39b3656-3712-4178-ad8f-a53435b3e0c5",
   "metadata": {},
   "outputs": [],
   "source": [
    "# import cdsapi\n",
    "\n",
    "# c = cdsapi.Client()\n",
    "\n",
    "# c.retrieve(\n",
    "#     'reanalysis-era5-single-levels',\n",
    "#     {\n",
    "#         'product_type': 'reanalysis',\n",
    "#         'format': 'netcdf',\n",
    "#         'variable': [\n",
    "#             '2m_temperature', 'total_precipitation',\n",
    "#         ],\n",
    "#         'year': [\n",
    "#             '2018', '2019', '2020',\n",
    "#             '2021', '2022', '2023',\n",
    "#         ],\n",
    "#         'month': [\n",
    "#             '01', '02', '03',\n",
    "#             '04', '05', '06',\n",
    "#             '07', '08', '09',\n",
    "#             '10', '11', '12',\n",
    "#         ],\n",
    "#         'day': [\n",
    "#             '01', '02', '03',\n",
    "#             '04', '05', '06',\n",
    "#             '07', '08', '09',\n",
    "#             '10', '11', '12',\n",
    "#             '13', '14', '15',\n",
    "#             '16', '17', '18',\n",
    "#             '19', '20', '21',\n",
    "#             '22', '23', '24',\n",
    "#             '25', '26', '27',\n",
    "#             '28', '29', '30',\n",
    "#             '31',\n",
    "#         ],\n",
    "#         'time': [\n",
    "#             '00:00', '01:00', '02:00',\n",
    "#             '03:00', '04:00', '05:00',\n",
    "#             '06:00', '07:00', '08:00',\n",
    "#             '09:00', '10:00', '11:00',\n",
    "#             '12:00', '13:00', '14:00',\n",
    "#             '15:00', '16:00', '17:00',\n",
    "#             '18:00', '19:00', '20:00',\n",
    "#             '21:00', '22:00', '23:00',\n",
    "#         ],\n",
    "#         'area': [\n",
    "#             23, 39, 22,\n",
    "#             40,\n",
    "#         ],\n",
    "#     },\n",
    "#     'download.nc')"
   ]
  },
  {
   "cell_type": "markdown",
   "id": "99b30f71-7234-44d2-8ae6-d5147a25c82c",
   "metadata": {},
   "source": [
    "#### 2. Load the dataset using the Dataset function from the netCDF4 module. Be sure to specify the correct file path for the dataset:"
   ]
  },
  {
   "cell_type": "code",
   "execution_count": 3,
   "id": "e6bf62bd-7691-4806-b703-d2e3db371e53",
   "metadata": {},
   "outputs": [],
   "source": [
    "fpath = os.path.join(os.getcwd(), 'ERA5_Data', 'download.nc')\n",
    "dset = xr.open_dataset(fpath, decode_times=False)"
   ]
  },
  {
   "cell_type": "markdown",
   "id": "a6b1155c-5014-4a39-b71e-d2f71c4cca7e",
   "metadata": {},
   "source": [
    "#### 3. Extract the relevant variables from the dataset, including air temperature (t2m), precipitation (tp), latitude, longitude, and time. Then, convert these variables into numpy arrays for further processing:"
   ]
  },
  {
   "cell_type": "code",
   "execution_count": 4,
   "id": "f81a5e80-6647-4b54-93d4-fd720424cf26",
   "metadata": {},
   "outputs": [],
   "source": [
    "t2m = np.array(dset.variables['t2m'])\n",
    "tp = np.array(dset.variables['tp'])\n",
    "latitude = np.array(dset.variables['latitude'])\n",
    "longitude = np.array(dset.variables['longitude'])\n",
    "time = np.array(dset.variables['time'])"
   ]
  },
  {
   "cell_type": "code",
   "execution_count": 5,
   "id": "9b83400d-d794-47cf-b906-d67d0a76085b",
   "metadata": {},
   "outputs": [
    {
     "data": {
      "text/html": [
       "<div><svg style=\"position: absolute; width: 0; height: 0; overflow: hidden\">\n",
       "<defs>\n",
       "<symbol id=\"icon-database\" viewBox=\"0 0 32 32\">\n",
       "<path d=\"M16 0c-8.837 0-16 2.239-16 5v4c0 2.761 7.163 5 16 5s16-2.239 16-5v-4c0-2.761-7.163-5-16-5z\"></path>\n",
       "<path d=\"M16 17c-8.837 0-16-2.239-16-5v6c0 2.761 7.163 5 16 5s16-2.239 16-5v-6c0 2.761-7.163 5-16 5z\"></path>\n",
       "<path d=\"M16 26c-8.837 0-16-2.239-16-5v6c0 2.761 7.163 5 16 5s16-2.239 16-5v-6c0 2.761-7.163 5-16 5z\"></path>\n",
       "</symbol>\n",
       "<symbol id=\"icon-file-text2\" viewBox=\"0 0 32 32\">\n",
       "<path d=\"M28.681 7.159c-0.694-0.947-1.662-2.053-2.724-3.116s-2.169-2.030-3.116-2.724c-1.612-1.182-2.393-1.319-2.841-1.319h-15.5c-1.378 0-2.5 1.121-2.5 2.5v27c0 1.378 1.122 2.5 2.5 2.5h23c1.378 0 2.5-1.122 2.5-2.5v-19.5c0-0.448-0.137-1.23-1.319-2.841zM24.543 5.457c0.959 0.959 1.712 1.825 2.268 2.543h-4.811v-4.811c0.718 0.556 1.584 1.309 2.543 2.268zM28 29.5c0 0.271-0.229 0.5-0.5 0.5h-23c-0.271 0-0.5-0.229-0.5-0.5v-27c0-0.271 0.229-0.5 0.5-0.5 0 0 15.499-0 15.5 0v7c0 0.552 0.448 1 1 1h7v19.5z\"></path>\n",
       "<path d=\"M23 26h-14c-0.552 0-1-0.448-1-1s0.448-1 1-1h14c0.552 0 1 0.448 1 1s-0.448 1-1 1z\"></path>\n",
       "<path d=\"M23 22h-14c-0.552 0-1-0.448-1-1s0.448-1 1-1h14c0.552 0 1 0.448 1 1s-0.448 1-1 1z\"></path>\n",
       "<path d=\"M23 18h-14c-0.552 0-1-0.448-1-1s0.448-1 1-1h14c0.552 0 1 0.448 1 1s-0.448 1-1 1z\"></path>\n",
       "</symbol>\n",
       "</defs>\n",
       "</svg>\n",
       "<style>/* CSS stylesheet for displaying xarray objects in jupyterlab.\n",
       " *\n",
       " */\n",
       "\n",
       ":root {\n",
       "  --xr-font-color0: var(--jp-content-font-color0, rgba(0, 0, 0, 1));\n",
       "  --xr-font-color2: var(--jp-content-font-color2, rgba(0, 0, 0, 0.54));\n",
       "  --xr-font-color3: var(--jp-content-font-color3, rgba(0, 0, 0, 0.38));\n",
       "  --xr-border-color: var(--jp-border-color2, #e0e0e0);\n",
       "  --xr-disabled-color: var(--jp-layout-color3, #bdbdbd);\n",
       "  --xr-background-color: var(--jp-layout-color0, white);\n",
       "  --xr-background-color-row-even: var(--jp-layout-color1, white);\n",
       "  --xr-background-color-row-odd: var(--jp-layout-color2, #eeeeee);\n",
       "}\n",
       "\n",
       "html[theme=dark],\n",
       "body[data-theme=dark],\n",
       "body.vscode-dark {\n",
       "  --xr-font-color0: rgba(255, 255, 255, 1);\n",
       "  --xr-font-color2: rgba(255, 255, 255, 0.54);\n",
       "  --xr-font-color3: rgba(255, 255, 255, 0.38);\n",
       "  --xr-border-color: #1F1F1F;\n",
       "  --xr-disabled-color: #515151;\n",
       "  --xr-background-color: #111111;\n",
       "  --xr-background-color-row-even: #111111;\n",
       "  --xr-background-color-row-odd: #313131;\n",
       "}\n",
       "\n",
       ".xr-wrap {\n",
       "  display: block !important;\n",
       "  min-width: 300px;\n",
       "  max-width: 700px;\n",
       "}\n",
       "\n",
       ".xr-text-repr-fallback {\n",
       "  /* fallback to plain text repr when CSS is not injected (untrusted notebook) */\n",
       "  display: none;\n",
       "}\n",
       "\n",
       ".xr-header {\n",
       "  padding-top: 6px;\n",
       "  padding-bottom: 6px;\n",
       "  margin-bottom: 4px;\n",
       "  border-bottom: solid 1px var(--xr-border-color);\n",
       "}\n",
       "\n",
       ".xr-header > div,\n",
       ".xr-header > ul {\n",
       "  display: inline;\n",
       "  margin-top: 0;\n",
       "  margin-bottom: 0;\n",
       "}\n",
       "\n",
       ".xr-obj-type,\n",
       ".xr-array-name {\n",
       "  margin-left: 2px;\n",
       "  margin-right: 10px;\n",
       "}\n",
       "\n",
       ".xr-obj-type {\n",
       "  color: var(--xr-font-color2);\n",
       "}\n",
       "\n",
       ".xr-sections {\n",
       "  padding-left: 0 !important;\n",
       "  display: grid;\n",
       "  grid-template-columns: 150px auto auto 1fr 20px 20px;\n",
       "}\n",
       "\n",
       ".xr-section-item {\n",
       "  display: contents;\n",
       "}\n",
       "\n",
       ".xr-section-item input {\n",
       "  display: none;\n",
       "}\n",
       "\n",
       ".xr-section-item input + label {\n",
       "  color: var(--xr-disabled-color);\n",
       "}\n",
       "\n",
       ".xr-section-item input:enabled + label {\n",
       "  cursor: pointer;\n",
       "  color: var(--xr-font-color2);\n",
       "}\n",
       "\n",
       ".xr-section-item input:enabled + label:hover {\n",
       "  color: var(--xr-font-color0);\n",
       "}\n",
       "\n",
       ".xr-section-summary {\n",
       "  grid-column: 1;\n",
       "  color: var(--xr-font-color2);\n",
       "  font-weight: 500;\n",
       "}\n",
       "\n",
       ".xr-section-summary > span {\n",
       "  display: inline-block;\n",
       "  padding-left: 0.5em;\n",
       "}\n",
       "\n",
       ".xr-section-summary-in:disabled + label {\n",
       "  color: var(--xr-font-color2);\n",
       "}\n",
       "\n",
       ".xr-section-summary-in + label:before {\n",
       "  display: inline-block;\n",
       "  content: '►';\n",
       "  font-size: 11px;\n",
       "  width: 15px;\n",
       "  text-align: center;\n",
       "}\n",
       "\n",
       ".xr-section-summary-in:disabled + label:before {\n",
       "  color: var(--xr-disabled-color);\n",
       "}\n",
       "\n",
       ".xr-section-summary-in:checked + label:before {\n",
       "  content: '▼';\n",
       "}\n",
       "\n",
       ".xr-section-summary-in:checked + label > span {\n",
       "  display: none;\n",
       "}\n",
       "\n",
       ".xr-section-summary,\n",
       ".xr-section-inline-details {\n",
       "  padding-top: 4px;\n",
       "  padding-bottom: 4px;\n",
       "}\n",
       "\n",
       ".xr-section-inline-details {\n",
       "  grid-column: 2 / -1;\n",
       "}\n",
       "\n",
       ".xr-section-details {\n",
       "  display: none;\n",
       "  grid-column: 1 / -1;\n",
       "  margin-bottom: 5px;\n",
       "}\n",
       "\n",
       ".xr-section-summary-in:checked ~ .xr-section-details {\n",
       "  display: contents;\n",
       "}\n",
       "\n",
       ".xr-array-wrap {\n",
       "  grid-column: 1 / -1;\n",
       "  display: grid;\n",
       "  grid-template-columns: 20px auto;\n",
       "}\n",
       "\n",
       ".xr-array-wrap > label {\n",
       "  grid-column: 1;\n",
       "  vertical-align: top;\n",
       "}\n",
       "\n",
       ".xr-preview {\n",
       "  color: var(--xr-font-color3);\n",
       "}\n",
       "\n",
       ".xr-array-preview,\n",
       ".xr-array-data {\n",
       "  padding: 0 5px !important;\n",
       "  grid-column: 2;\n",
       "}\n",
       "\n",
       ".xr-array-data,\n",
       ".xr-array-in:checked ~ .xr-array-preview {\n",
       "  display: none;\n",
       "}\n",
       "\n",
       ".xr-array-in:checked ~ .xr-array-data,\n",
       ".xr-array-preview {\n",
       "  display: inline-block;\n",
       "}\n",
       "\n",
       ".xr-dim-list {\n",
       "  display: inline-block !important;\n",
       "  list-style: none;\n",
       "  padding: 0 !important;\n",
       "  margin: 0;\n",
       "}\n",
       "\n",
       ".xr-dim-list li {\n",
       "  display: inline-block;\n",
       "  padding: 0;\n",
       "  margin: 0;\n",
       "}\n",
       "\n",
       ".xr-dim-list:before {\n",
       "  content: '(';\n",
       "}\n",
       "\n",
       ".xr-dim-list:after {\n",
       "  content: ')';\n",
       "}\n",
       "\n",
       ".xr-dim-list li:not(:last-child):after {\n",
       "  content: ',';\n",
       "  padding-right: 5px;\n",
       "}\n",
       "\n",
       ".xr-has-index {\n",
       "  font-weight: bold;\n",
       "}\n",
       "\n",
       ".xr-var-list,\n",
       ".xr-var-item {\n",
       "  display: contents;\n",
       "}\n",
       "\n",
       ".xr-var-item > div,\n",
       ".xr-var-item label,\n",
       ".xr-var-item > .xr-var-name span {\n",
       "  background-color: var(--xr-background-color-row-even);\n",
       "  margin-bottom: 0;\n",
       "}\n",
       "\n",
       ".xr-var-item > .xr-var-name:hover span {\n",
       "  padding-right: 5px;\n",
       "}\n",
       "\n",
       ".xr-var-list > li:nth-child(odd) > div,\n",
       ".xr-var-list > li:nth-child(odd) > label,\n",
       ".xr-var-list > li:nth-child(odd) > .xr-var-name span {\n",
       "  background-color: var(--xr-background-color-row-odd);\n",
       "}\n",
       "\n",
       ".xr-var-name {\n",
       "  grid-column: 1;\n",
       "}\n",
       "\n",
       ".xr-var-dims {\n",
       "  grid-column: 2;\n",
       "}\n",
       "\n",
       ".xr-var-dtype {\n",
       "  grid-column: 3;\n",
       "  text-align: right;\n",
       "  color: var(--xr-font-color2);\n",
       "}\n",
       "\n",
       ".xr-var-preview {\n",
       "  grid-column: 4;\n",
       "}\n",
       "\n",
       ".xr-index-preview {\n",
       "  grid-column: 2 / 5;\n",
       "  color: var(--xr-font-color2);\n",
       "}\n",
       "\n",
       ".xr-var-name,\n",
       ".xr-var-dims,\n",
       ".xr-var-dtype,\n",
       ".xr-preview,\n",
       ".xr-attrs dt {\n",
       "  white-space: nowrap;\n",
       "  overflow: hidden;\n",
       "  text-overflow: ellipsis;\n",
       "  padding-right: 10px;\n",
       "}\n",
       "\n",
       ".xr-var-name:hover,\n",
       ".xr-var-dims:hover,\n",
       ".xr-var-dtype:hover,\n",
       ".xr-attrs dt:hover {\n",
       "  overflow: visible;\n",
       "  width: auto;\n",
       "  z-index: 1;\n",
       "}\n",
       "\n",
       ".xr-var-attrs,\n",
       ".xr-var-data,\n",
       ".xr-index-data {\n",
       "  display: none;\n",
       "  background-color: var(--xr-background-color) !important;\n",
       "  padding-bottom: 5px !important;\n",
       "}\n",
       "\n",
       ".xr-var-attrs-in:checked ~ .xr-var-attrs,\n",
       ".xr-var-data-in:checked ~ .xr-var-data,\n",
       ".xr-index-data-in:checked ~ .xr-index-data {\n",
       "  display: block;\n",
       "}\n",
       "\n",
       ".xr-var-data > table {\n",
       "  float: right;\n",
       "}\n",
       "\n",
       ".xr-var-name span,\n",
       ".xr-var-data,\n",
       ".xr-index-name div,\n",
       ".xr-index-data,\n",
       ".xr-attrs {\n",
       "  padding-left: 25px !important;\n",
       "}\n",
       "\n",
       ".xr-attrs,\n",
       ".xr-var-attrs,\n",
       ".xr-var-data,\n",
       ".xr-index-data {\n",
       "  grid-column: 1 / -1;\n",
       "}\n",
       "\n",
       "dl.xr-attrs {\n",
       "  padding: 0;\n",
       "  margin: 0;\n",
       "  display: grid;\n",
       "  grid-template-columns: 125px auto;\n",
       "}\n",
       "\n",
       ".xr-attrs dt,\n",
       ".xr-attrs dd {\n",
       "  padding: 0;\n",
       "  margin: 0;\n",
       "  float: left;\n",
       "  padding-right: 10px;\n",
       "  width: auto;\n",
       "}\n",
       "\n",
       ".xr-attrs dt {\n",
       "  font-weight: normal;\n",
       "  grid-column: 1;\n",
       "}\n",
       "\n",
       ".xr-attrs dt:hover span {\n",
       "  display: inline-block;\n",
       "  background: var(--xr-background-color);\n",
       "  padding-right: 10px;\n",
       "}\n",
       "\n",
       ".xr-attrs dd {\n",
       "  grid-column: 2;\n",
       "  white-space: pre-wrap;\n",
       "  word-break: break-all;\n",
       "}\n",
       "\n",
       ".xr-icon-database,\n",
       ".xr-icon-file-text2,\n",
       ".xr-no-icon {\n",
       "  display: inline-block;\n",
       "  vertical-align: middle;\n",
       "  width: 1em;\n",
       "  height: 1.5em !important;\n",
       "  stroke-width: 0;\n",
       "  stroke: currentColor;\n",
       "  fill: currentColor;\n",
       "}\n",
       "</style><pre class='xr-text-repr-fallback'>&lt;xarray.IndexVariable &#x27;time&#x27; (time: 52379)&gt;\n",
       "array([1034376, 1034377, 1034378, ..., 1086752, 1086753, 1086754])\n",
       "Attributes:\n",
       "    units:      hours since 1900-01-01 00:00:00.0\n",
       "    long_name:  time\n",
       "    calendar:   gregorian</pre><div class='xr-wrap' style='display:none'><div class='xr-header'><div class='xr-obj-type'>xarray.IndexVariable</div><div class='xr-array-name'>'time'</div><ul class='xr-dim-list'><li><span>time</span>: 52379</li></ul></div><ul class='xr-sections'><li class='xr-section-item'><div class='xr-array-wrap'><input id='section-ecf8ecf7-f86e-4f77-9b44-7ca0678104a2' class='xr-array-in' type='checkbox' checked><label for='section-ecf8ecf7-f86e-4f77-9b44-7ca0678104a2' title='Show/hide data repr'><svg class='icon xr-icon-database'><use xlink:href='#icon-database'></use></svg></label><div class='xr-array-preview xr-preview'><span>1034376 1034377 1034378 1034379 ... 1086751 1086752 1086753 1086754</span></div><div class='xr-array-data'><pre>array([1034376, 1034377, 1034378, ..., 1086752, 1086753, 1086754])</pre></div></div></li><li class='xr-section-item'><input id='section-efd73bb4-cc9c-452f-affe-48fdd7a29bfd' class='xr-section-summary-in' type='checkbox'  checked><label for='section-efd73bb4-cc9c-452f-affe-48fdd7a29bfd' class='xr-section-summary' >Attributes: <span>(3)</span></label><div class='xr-section-inline-details'></div><div class='xr-section-details'><dl class='xr-attrs'><dt><span>units :</span></dt><dd>hours since 1900-01-01 00:00:00.0</dd><dt><span>long_name :</span></dt><dd>time</dd><dt><span>calendar :</span></dt><dd>gregorian</dd></dl></div></li></ul></div></div>"
      ],
      "text/plain": [
       "<xarray.IndexVariable 'time' (time: 52379)>\n",
       "array([1034376, 1034377, 1034378, ..., 1086752, 1086753, 1086754])\n",
       "Attributes:\n",
       "    units:      hours since 1900-01-01 00:00:00.0\n",
       "    long_name:  time\n",
       "    calendar:   gregorian"
      ]
     },
     "execution_count": 5,
     "metadata": {},
     "output_type": "execute_result"
    }
   ],
   "source": [
    "dset.variables['time']"
   ]
  },
  {
   "cell_type": "code",
   "execution_count": 6,
   "id": "7460580d-4aa7-495c-b6a0-d9a445b43c65",
   "metadata": {},
   "outputs": [
    {
     "name": "stdout",
     "output_type": "stream",
     "text": [
      "0.0\n",
      "0.0\n"
     ]
    }
   ],
   "source": [
    "print((t2m[t2m==-32767]).sum())\n",
    "print((tp[tp==-32767]).sum())"
   ]
  },
  {
   "cell_type": "markdown",
   "id": "a2dc0efc-bbca-4a2a-bee2-b549dffe9e9b",
   "metadata": {},
   "source": [
    "#### 4. Identify and replace missing values in the t2m and tp arrays, represented by−32767, with NaNs (Not a Number):"
   ]
  },
  {
   "cell_type": "code",
   "execution_count": 7,
   "id": "cf69759d-b5b7-4158-b4f6-d259ef3b15fc",
   "metadata": {},
   "outputs": [],
   "source": [
    "# t2m[t2m==-32767] = np.NaN\n",
    "# tp[tp==-32767] = np.NaN"
   ]
  },
  {
   "cell_type": "markdown",
   "id": "8905b8fc-93bb-45d9-ae3e-46b3b8a60b0e",
   "metadata": {},
   "source": [
    "#### 5. Convert the air temperature from K to ◦C and precipitation from m/h to mm/h for more intuitive interpretation:"
   ]
  },
  {
   "cell_type": "code",
   "execution_count": 8,
   "id": "7f198677-2269-4627-96b1-781fc4ea716d",
   "metadata": {},
   "outputs": [],
   "source": [
    "t2m = t2m - 273.15\n",
    "tp = tp * 1000"
   ]
  },
  {
   "cell_type": "code",
   "execution_count": 9,
   "id": "12d7e417-947b-4d7b-a61d-3c56cf0efcd3",
   "metadata": {},
   "outputs": [
    {
     "data": {
      "text/plain": [
       "numpy.ndarray"
      ]
     },
     "execution_count": 9,
     "metadata": {},
     "output_type": "execute_result"
    }
   ],
   "source": [
    "type(time)"
   ]
  },
  {
   "cell_type": "code",
   "execution_count": 10,
   "id": "f58ee015-66aa-48fc-bc38-3af7bcb8b1e4",
   "metadata": {},
   "outputs": [
    {
     "data": {
      "text/plain": [
       "array([1034376, 1034377, 1034378, ..., 1086752, 1086753, 1086754])"
      ]
     },
     "execution_count": 10,
     "metadata": {},
     "output_type": "execute_result"
    }
   ],
   "source": [
    "time"
   ]
  },
  {
   "cell_type": "code",
   "execution_count": 11,
   "id": "01b2bdf5-2c87-4deb-b90f-2dddfbfc9775",
   "metadata": {},
   "outputs": [
    {
     "data": {
      "text/plain": [
       "numpy.int32"
      ]
     },
     "execution_count": 11,
     "metadata": {},
     "output_type": "execute_result"
    }
   ],
   "source": [
    "type(time[0])"
   ]
  },
  {
   "cell_type": "markdown",
   "id": "7108e871-f4cc-4fd5-94f4-612f2cc00141",
   "metadata": {},
   "source": [
    "#### 6. Transform the time data to datetime values using list comprehension, a method that allows for the efficient creation of a new list by applying an operation to each item in an existing sequence. This step requires importing the datetime module. Here, each hour count since 1900-01-01 in the time array is converted into a datetime object, resulting in a more readable time format:"
   ]
  },
  {
   "cell_type": "code",
   "execution_count": 12,
   "id": "0fa31524-a41a-42f0-af82-ed830399e32c",
   "metadata": {},
   "outputs": [],
   "source": [
    "import datetime\n",
    "time_dt = [datetime.datetime(1900,1,1) + datetime.timedelta(hours=int(t)) for t in time]"
   ]
  },
  {
   "cell_type": "markdown",
   "id": "311eca6c-0e7a-433e-942c-6c33c91841cf",
   "metadata": {},
   "source": [
    "#### 7. If the ERA5 dataset has four dimensions, indicating the presence of both final and preliminary data, compute the mean across the second dimension to simplify the dataset:"
   ]
  },
  {
   "cell_type": "code",
   "execution_count": 13,
   "id": "2b489c01-06fb-4a8a-8ff9-fac8c7aa9a52",
   "metadata": {},
   "outputs": [],
   "source": [
    "if t2m.ndim == 4:\n",
    "    t2m = np.nanmean(t2m, axis=1)\n",
    "    tp = np.nanmean(tp, axis=1)"
   ]
  },
  {
   "cell_type": "markdown",
   "id": "50905487-21e3-4cfc-bb98-bad6f27d26c0",
   "metadata": {},
   "source": [
    "#### 8. Create a Pandas dataframe containing time series data for both air temperature and precipitation. Focus on the grid cell closest to the reservoir (row 3, column 2):"
   ]
  },
  {
   "cell_type": "code",
   "execution_count": 14,
   "id": "e14cdaa0-c6d6-48b4-bd7b-049bb6449d64",
   "metadata": {},
   "outputs": [],
   "source": [
    "import pandas as pd\n",
    "df_era5 = pd.DataFrame(index=time_dt)\n",
    "df_era5['t2m'] = t2m[:,3,2]\n",
    "df_era5['tp'] = tp[:,3,2]"
   ]
  },
  {
   "cell_type": "markdown",
   "id": "09455964-4483-48b1-bd97-6f8dd751fa33",
   "metadata": {},
   "source": [
    "#### 9. Finally, plot the time series with the following commands:"
   ]
  },
  {
   "cell_type": "code",
   "execution_count": 15,
   "id": "5ebf2127-31d6-4293-a330-0fc4763ffb10",
   "metadata": {},
   "outputs": [
    {
     "data": {
      "image/png": "[encoded data removed]",
      "text/plain": [
       "<Figure size 640x480 with 1 Axes>"
      ]
     },
     "metadata": {},
     "output_type": "display_data"
    }
   ],
   "source": [
    "df_era5.plot()\n",
    "plt.show()"
   ]
  },
  {
   "cell_type": "markdown",
   "id": "bacc3993-0a01-48c7-bd93-9ec76459a09a",
   "metadata": {},
   "source": [
    "#### 10. What is the temporal range covered by this ERA5 data?\n",
    "This is an hourly data starting from 2018-01-01 to 2023-12-23"
   ]
  },
  {
   "cell_type": "code",
   "execution_count": 16,
   "id": "00f56ddf-a9c1-490e-9af0-2457c9d2a76a",
   "metadata": {},
   "outputs": [
    {
     "data": {
      "text/html": [
       "<div>\n",
       "<style scoped>\n",
       "    .dataframe tbody tr th:only-of-type {\n",
       "        vertical-align: middle;\n",
       "    }\n",
       "\n",
       "    .dataframe tbody tr th {\n",
       "        vertical-align: top;\n",
       "    }\n",
       "\n",
       "    .dataframe thead th {\n",
       "        text-align: right;\n",
       "    }\n",
       "</style>\n",
       "<table border=\"1\" class=\"dataframe\">\n",
       "  <thead>\n",
       "    <tr style=\"text-align: right;\">\n",
       "      <th></th>\n",
       "      <th>t2m</th>\n",
       "      <th>tp</th>\n",
       "    </tr>\n",
       "  </thead>\n",
       "  <tbody>\n",
       "    <tr>\n",
       "      <th>2018-01-01 00:00:00</th>\n",
       "      <td>25.183167</td>\n",
       "      <td>0.015377</td>\n",
       "    </tr>\n",
       "    <tr>\n",
       "      <th>2018-01-01 01:00:00</th>\n",
       "      <td>25.193542</td>\n",
       "      <td>0.001042</td>\n",
       "    </tr>\n",
       "    <tr>\n",
       "      <th>2018-01-01 02:00:00</th>\n",
       "      <td>24.517334</td>\n",
       "      <td>0.000000</td>\n",
       "    </tr>\n",
       "    <tr>\n",
       "      <th>2018-01-01 03:00:00</th>\n",
       "      <td>24.180511</td>\n",
       "      <td>0.000000</td>\n",
       "    </tr>\n",
       "    <tr>\n",
       "      <th>2018-01-01 04:00:00</th>\n",
       "      <td>24.256287</td>\n",
       "      <td>0.005733</td>\n",
       "    </tr>\n",
       "    <tr>\n",
       "      <th>...</th>\n",
       "      <td>...</td>\n",
       "      <td>...</td>\n",
       "    </tr>\n",
       "    <tr>\n",
       "      <th>2023-12-23 06:00:00</th>\n",
       "      <td>25.027069</td>\n",
       "      <td>0.524126</td>\n",
       "    </tr>\n",
       "    <tr>\n",
       "      <th>2023-12-23 07:00:00</th>\n",
       "      <td>24.848938</td>\n",
       "      <td>0.177489</td>\n",
       "    </tr>\n",
       "    <tr>\n",
       "      <th>2023-12-23 08:00:00</th>\n",
       "      <td>26.184540</td>\n",
       "      <td>0.144128</td>\n",
       "    </tr>\n",
       "    <tr>\n",
       "      <th>2023-12-23 09:00:00</th>\n",
       "      <td>26.092560</td>\n",
       "      <td>0.060205</td>\n",
       "    </tr>\n",
       "    <tr>\n",
       "      <th>2023-12-23 10:00:00</th>\n",
       "      <td>27.033691</td>\n",
       "      <td>0.017202</td>\n",
       "    </tr>\n",
       "  </tbody>\n",
       "</table>\n",
       "<p>52379 rows × 2 columns</p>\n",
       "</div>"
      ],
      "text/plain": [
       "                           t2m        tp\n",
       "2018-01-01 00:00:00  25.183167  0.015377\n",
       "2018-01-01 01:00:00  25.193542  0.001042\n",
       "2018-01-01 02:00:00  24.517334  0.000000\n",
       "2018-01-01 03:00:00  24.180511  0.000000\n",
       "2018-01-01 04:00:00  24.256287  0.005733\n",
       "...                        ...       ...\n",
       "2023-12-23 06:00:00  25.027069  0.524126\n",
       "2023-12-23 07:00:00  24.848938  0.177489\n",
       "2023-12-23 08:00:00  26.184540  0.144128\n",
       "2023-12-23 09:00:00  26.092560  0.060205\n",
       "2023-12-23 10:00:00  27.033691  0.017202\n",
       "\n",
       "[52379 rows x 2 columns]"
      ]
     },
     "execution_count": 16,
     "metadata": {},
     "output_type": "execute_result"
    }
   ],
   "source": [
    "df_era5"
   ]
  },
  {
   "cell_type": "markdown",
   "id": "c96b4fc6-0385-4621-97d5-c95f393dd3da",
   "metadata": {},
   "source": [
    "#### 11. What is the average monthly precipitation?"
   ]
  },
  {
   "cell_type": "code",
   "execution_count": 17,
   "id": "48a9a13a-3a46-4076-b33b-a55403426d3a",
   "metadata": {},
   "outputs": [
    {
     "data": {
      "text/plain": [
       "2018-01-31    0.000822\n",
       "2018-02-28    0.003895\n",
       "2018-03-31    0.000422\n",
       "2018-04-30    0.039322\n",
       "2018-05-31    0.002637\n",
       "                ...   \n",
       "2023-08-31    0.000974\n",
       "2023-09-30    0.001484\n",
       "2023-10-31    0.010097\n",
       "2023-11-30    0.051732\n",
       "2023-12-31    0.024345\n",
       "Freq: M, Name: tp, Length: 72, dtype: float32"
      ]
     },
     "execution_count": 17,
     "metadata": {},
     "output_type": "execute_result"
    }
   ],
   "source": [
    "df_era5['tp'].resample('M').mean()"
   ]
  },
  {
   "cell_type": "markdown",
   "id": "648e7eb8-1634-407c-95d8-12fa3b326f92",
   "metadata": {},
   "source": [
    "#### 12. What is the cumulative precipitation over the entire period?"
   ]
  },
  {
   "cell_type": "code",
   "execution_count": 18,
   "id": "dfe3479c-df48-40a9-90dd-f4c6804a29a5",
   "metadata": {},
   "outputs": [
    {
     "data": {
      "text/plain": [
       "526.2771"
      ]
     },
     "execution_count": 18,
     "metadata": {},
     "output_type": "execute_result"
    }
   ],
   "source": [
    "df_era5['tp'].sum()"
   ]
  },
  {
   "cell_type": "code",
   "execution_count": 19,
   "id": "f733598f-6964-4ae6-bc14-1452b54eff10",
   "metadata": {},
   "outputs": [
    {
     "data": {
      "text/plain": [
       "(52379, 2)"
      ]
     },
     "execution_count": 19,
     "metadata": {},
     "output_type": "execute_result"
    }
   ],
   "source": [
    "df_era5.shape"
   ]
  },
  {
   "cell_type": "markdown",
   "id": "c3e1d8b7-710b-4c2e-92c3-6cf9d4486513",
   "metadata": {},
   "source": [
    "#### 13. Identify and visualize extreme temperature events."
   ]
  },
  {
   "cell_type": "code",
   "execution_count": 20,
   "id": "ad7f45b8-40ae-4f28-8c5b-fd592e364677",
   "metadata": {},
   "outputs": [
    {
     "data": {
      "image/png": "[encoded data removed]",
      "text/plain": [
       "<Figure size 640x480 with 1 Axes>"
      ]
     },
     "metadata": {},
     "output_type": "display_data"
    },
    {
     "data": {
      "text/plain": [
       "<Axes: title={'center': 'Extreme Temperature Events Over Time'}, xlabel='Years', ylabel='Air Temperature'>"
      ]
     },
     "execution_count": 20,
     "metadata": {},
     "output_type": "execute_result"
    }
   ],
   "source": [
    "from easy_mpl import plot\n",
    "\n",
    "extreme_temperature_events = df_era5[df_era5['t2m'] > 46]\n",
    "\n",
    "plot(extreme_temperature_events['t2m'], 'o',\n",
    "     markerfacecolor='lightcoral',\n",
    "     markeredgecolor=\"black\", \n",
    "     markeredgewidth=0.6,\n",
    "     ax_kws=dict(\n",
    "        xlabel=\"Years\",\n",
    "        ylabel=\"Air Temperature\",\n",
    "        title='Extreme Temperature Events Over Time'))"
   ]
  },
  {
   "cell_type": "markdown",
   "id": "82191ed0-08a0-4f61-8073-614a2bf09846",
   "metadata": {},
   "source": [
    "### Part 3"
   ]
  },
  {
   "cell_type": "markdown",
   "id": "311aef94-55e3-41fb-8506-8daded453544",
   "metadata": {},
   "source": [
    "#### 1. To compute PE, use the hargreaves samani 1982 function from tools.py. This function requires Tmax, Tmin, Tmean, latitude, and day of the year as input. Ra is calculated internally from latitude and day of the year. Derive all inputs for the function from the hourly ERA5 data:"
   ]
  },
  {
   "cell_type": "code",
   "execution_count": 21,
   "id": "524468a7-4885-47bf-a92e-2e67bbd09246",
   "metadata": {},
   "outputs": [],
   "source": [
    "tmin = df_era5['t2m'].resample('D').min().values\n",
    "tmax = df_era5['t2m'].resample('D').max().values\n",
    "tmean = df_era5['t2m'].resample('D').mean().values \n",
    "doy = df_era5['t2m'].resample('D').mean().index.dayofyear\n",
    "lat = 21.25"
   ]
  },
  {
   "cell_type": "markdown",
   "id": "5946e5e1-acf7-48a4-993c-dd5c138daae4",
   "metadata": {},
   "source": [
    "#### 2. Compute the PE using:"
   ]
  },
  {
   "cell_type": "code",
   "execution_count": 22,
   "id": "bddc49cb-0014-4c72-a139-0be1ec632161",
   "metadata": {},
   "outputs": [],
   "source": [
    "import tools\n",
    "pe = tools.hargreaves_samani_1982(tmin, tmax, tmean, lat, doy)"
   ]
  },
  {
   "cell_type": "markdown",
   "id": "c553da65-f134-4780-811c-9b8e933a6f6b",
   "metadata": {},
   "source": [
    "#### 3. Create a figure depicting the PE time series."
   ]
  },
  {
   "cell_type": "code",
   "execution_count": 23,
   "id": "682e6730-850c-46ed-9679-979d43611ee6",
   "metadata": {},
   "outputs": [
    {
     "data": {
      "image/png": "[encoded data removed]",
      "text/plain": [
       "<Figure size 640x480 with 1 Axes>"
      ]
     },
     "metadata": {},
     "output_type": "display_data"
    },
    {
     "data": {
      "text/plain": [
       "<Axes: title={'center': 'Potential Evaporation Time Series'}, xlabel='Years', ylabel='Potential Evaporation'>"
      ]
     },
     "execution_count": 23,
     "metadata": {},
     "output_type": "execute_result"
    }
   ],
   "source": [
    "# First, we need to create a timeseries using Pandas library.\n",
    "# We will get index for our timeseries by resampling the hourly\n",
    "# data to daily steps.\n",
    "import pandas as pd\n",
    "ts_index = df_era5['t2m'].resample('D').mean().index\n",
    "pe = pd.Series(pe, index=ts_index)\n",
    "\n",
    "plot(pe,\n",
    "     ax_kws=dict(\n",
    "        xlabel=\"Years\",\n",
    "        ylabel=\"Potential Evaporation\",\n",
    "        title='Potential Evaporation Time Series')\n",
    "     )"
   ]
  },
  {
   "cell_type": "markdown",
   "id": "96bd2473-fd3d-4807-8f63-f0b8c1a49064",
   "metadata": {},
   "source": [
    "#### 4. What is the mean annual PE in mm y−1?"
   ]
  },
  {
   "cell_type": "code",
   "execution_count": 24,
   "id": "f3e5f9d5-e8f9-4341-a37a-7702fc859dc3",
   "metadata": {},
   "outputs": [
    {
     "data": {
      "text/plain": [
       "1819.939"
      ]
     },
     "execution_count": 24,
     "metadata": {},
     "output_type": "execute_result"
    }
   ],
   "source": [
    "pe_mean_annual = pe.resample('Y').sum().mean()\n",
    "pe_mean_annual"
   ]
  },
  {
   "cell_type": "markdown",
   "id": "d86a366b-8464-4b18-b674-321296328556",
   "metadata": {},
   "source": [
    "#### 5. Based on the mean annual PE, what is the volume of water potentially lost from the reservoir through evaporation anually? Assume the reservoir covers an area of 1.6 km2, as determined from satellite imagery from December 12, 2023."
   ]
  },
  {
   "cell_type": "code",
   "execution_count": 25,
   "id": "1a3886d2-5aca-4668-b4b8-f8f039295516",
   "metadata": {},
   "outputs": [
    {
     "name": "stdout",
     "output_type": "stream",
     "text": [
      "The volume of water potentially lost from the reservoir through evaporation anually is 2911902343750.0 cubic meters.\n"
     ]
    }
   ],
   "source": [
    "# Given values\n",
    "area_km2 = 1.6\n",
    "height_mm = pe_mean_annual\n",
    "\n",
    "# Conversion factors\n",
    "sq_m_per_km2 = 1e6\n",
    "mm_per_m = 1000\n",
    "\n",
    "# Convert area to square meters\n",
    "area_m2 = area_km2 * sq_m_per_km2\n",
    "\n",
    "# Calculate volume\n",
    "volume = area_m2 * height_mm * mm_per_m\n",
    "\n",
    "print(f\"The volume of water potentially lost from the reservoir through evaporation anually is {volume} cubic meters.\")"
   ]
  }
 ],
 "metadata": {
  "kernelspec": {
   "display_name": "Python 3 (ipykernel)",
   "language": "python",
   "name": "python3"
  },
  "language_info": {
   "codemirror_mode": {
    "name": "ipython",
    "version": 3
   },
   "file_extension": ".py",
   "mimetype": "text/x-python",
   "name": "python",
   "nbconvert_exporter": "python",
   "pygments_lexer": "ipython3",
   "version": "3.12.0"
  }
 },
 "nbformat": 4,
 "nbformat_minor": 5
}
